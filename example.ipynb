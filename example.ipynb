{
 "cells": [
  {
   "cell_type": "code",
   "execution_count": null,
   "metadata": {
    "tags": [
     "sdfg"
    ]
   },
   "outputs": [],
   "source": [
    "import json\n",
    "from explorer import MapExplorer\n",
    "\n",
    "config = {\"preds\": \"test_data/predictions.geojson\",\n",
    "          \"cams\": \"test_data/cams.geojson\",\n",
    "          \"area\" : json.load(open(\"test_data/map.geojson\"))[\"features\"][0],\n",
    "          \"path\" : \"test_annotator.json\"\n",
    "          }\n",
    "\n",
    "'''\n",
    "If you desire to add your custom layers of images, use the layers variable, otherwise Google will be the default one.\n",
    "layers = dict()\n",
    "layers[\"MySource\"] = TileLayer()\n",
    "and then send it to the MapExplorer constructor\n",
    "'''\n",
    "\n",
    "me = MapExplorer(config[\"area\"], config[\"cams\"], config[\"preds\"], config[\"path\"], show_pred_score=False)#, layers=layers)\n",
    "\n"
   ]
  },
  {
   "cell_type": "code",
   "execution_count": null,
   "metadata": {
    "scrolled": false
   },
   "outputs": [],
   "source": [
    "me.show_map()"
   ]
  },
  {
   "cell_type": "code",
   "execution_count": null,
   "metadata": {},
   "outputs": [],
   "source": []
  }
 ],
 "metadata": {
  "kernelspec": {
   "display_name": "Python 3",
   "language": "python",
   "name": "python3"
  },
  "language_info": {
   "codemirror_mode": {
    "name": "ipython",
    "version": 3
   },
   "file_extension": ".py",
   "mimetype": "text/x-python",
   "name": "python",
   "nbconvert_exporter": "python",
   "pygments_lexer": "ipython3",
   "version": "3.8.10"
  }
 },
 "nbformat": 4,
 "nbformat_minor": 2
}
